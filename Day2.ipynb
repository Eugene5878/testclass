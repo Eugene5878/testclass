{
  "nbformat": 4,
  "nbformat_minor": 0,
  "metadata": {
    "colab": {
      "name": "Day2.ipynb",
      "provenance": []
    },
    "kernelspec": {
      "name": "python3",
      "display_name": "Python 3"
    },
    "language_info": {
      "name": "python"
    }
  },
  "cells": [
    {
      "cell_type": "code",
      "metadata": {
        "colab": {
          "base_uri": "https://localhost:8080/"
        },
        "id": "6nqmf0uWyLRM",
        "outputId": "d4322633-5b29-4f21-e73d-dc58932d3f23"
      },
      "source": [
        "# 자료형...\n",
        "\n",
        "# 기본자료형\n",
        "# int 정수형 자료형\n",
        "\n",
        "int(1.9)\n",
        "# 라스트 튜플 딕셔너리 셋"
      ],
      "execution_count": 1,
      "outputs": [
        {
          "output_type": "execute_result",
          "data": {
            "text/plain": [
              "1"
            ]
          },
          "metadata": {
            "tags": []
          },
          "execution_count": 1
        }
      ]
    },
    {
      "cell_type": "code",
      "metadata": {
        "colab": {
          "base_uri": "https://localhost:8080/"
        },
        "id": "8ENboWUSzbK8",
        "outputId": "35a95906-6d29-4891-db85-e09e2ca1ee02"
      },
      "source": [
        "int(True) # bool 자료형 True, False"
      ],
      "execution_count": 3,
      "outputs": [
        {
          "output_type": "execute_result",
          "data": {
            "text/plain": [
              "1"
            ]
          },
          "metadata": {
            "tags": []
          },
          "execution_count": 3
        }
      ]
    },
    {
      "cell_type": "code",
      "metadata": {
        "colab": {
          "base_uri": "https://localhost:8080/"
        },
        "id": "jo6xDIgkz-x_",
        "outputId": "499df21a-8fdd-4015-dfd0-e87a50f1cbfb"
      },
      "source": [
        "int(\"100\")"
      ],
      "execution_count": 4,
      "outputs": [
        {
          "output_type": "execute_result",
          "data": {
            "text/plain": [
              "100"
            ]
          },
          "metadata": {
            "tags": []
          },
          "execution_count": 4
        }
      ]
    },
    {
      "cell_type": "code",
      "metadata": {
        "colab": {
          "base_uri": "https://localhost:8080/"
        },
        "id": "oNtntEBq0Bfx",
        "outputId": "48973ec1-9887-46c1-da89-041aa916a1e5"
      },
      "source": [
        "# 실수 (float)\n",
        "float(1)"
      ],
      "execution_count": 5,
      "outputs": [
        {
          "output_type": "execute_result",
          "data": {
            "text/plain": [
              "1.0"
            ]
          },
          "metadata": {
            "tags": []
          },
          "execution_count": 5
        }
      ]
    },
    {
      "cell_type": "code",
      "metadata": {
        "colab": {
          "base_uri": "https://localhost:8080/"
        },
        "id": "lNU6ImQo0UXf",
        "outputId": "ba2e1c1a-f1c1-4eb1-9388-54fa4e9f5103"
      },
      "source": [
        "float(True)"
      ],
      "execution_count": 6,
      "outputs": [
        {
          "output_type": "execute_result",
          "data": {
            "text/plain": [
              "1.0"
            ]
          },
          "metadata": {
            "tags": []
          },
          "execution_count": 6
        }
      ]
    },
    {
      "cell_type": "code",
      "metadata": {
        "colab": {
          "base_uri": "https://localhost:8080/"
        },
        "id": "BmKu8UoK0frA",
        "outputId": "5606678e-e8cc-41cd-8ab6-4f3dd67da34c"
      },
      "source": [
        "# 논리 (bool)\n",
        "\n",
        "bool(0)"
      ],
      "execution_count": 7,
      "outputs": [
        {
          "output_type": "execute_result",
          "data": {
            "text/plain": [
              "False"
            ]
          },
          "metadata": {
            "tags": []
          },
          "execution_count": 7
        }
      ]
    },
    {
      "cell_type": "code",
      "metadata": {
        "colab": {
          "base_uri": "https://localhost:8080/"
        },
        "id": "Y39kfzcE00FL",
        "outputId": "e64a10a7-6316-42cc-9613-7454b7bece5b"
      },
      "source": [
        "bool(1)"
      ],
      "execution_count": 8,
      "outputs": [
        {
          "output_type": "execute_result",
          "data": {
            "text/plain": [
              "True"
            ]
          },
          "metadata": {
            "tags": []
          },
          "execution_count": 8
        }
      ]
    },
    {
      "cell_type": "code",
      "metadata": {
        "colab": {
          "base_uri": "https://localhost:8080/"
        },
        "id": "hw5i668f01mr",
        "outputId": "9141ab56-893b-451d-e7b0-e1eec570198e"
      },
      "source": [
        "bool([])"
      ],
      "execution_count": 9,
      "outputs": [
        {
          "output_type": "execute_result",
          "data": {
            "text/plain": [
              "False"
            ]
          },
          "metadata": {
            "tags": []
          },
          "execution_count": 9
        }
      ]
    },
    {
      "cell_type": "code",
      "metadata": {
        "colab": {
          "base_uri": "https://localhost:8080/",
          "height": 35
        },
        "id": "ggPEWo7R1Dgw",
        "outputId": "6f412cba-7117-4b57-e461-6832dfe20553"
      },
      "source": [
        "# 문자열 (str)\n",
        "\n",
        "str(100)"
      ],
      "execution_count": 10,
      "outputs": [
        {
          "output_type": "execute_result",
          "data": {
            "application/vnd.google.colaboratory.intrinsic+json": {
              "type": "string"
            },
            "text/plain": [
              "'100'"
            ]
          },
          "metadata": {
            "tags": []
          },
          "execution_count": 10
        }
      ]
    },
    {
      "cell_type": "code",
      "metadata": {
        "colab": {
          "base_uri": "https://localhost:8080/",
          "height": 35
        },
        "id": "So-I-msy1LGR",
        "outputId": "edfc5581-f4a2-4ee7-fa16-2711a6d0a7a9"
      },
      "source": [
        "str(3.14)"
      ],
      "execution_count": 11,
      "outputs": [
        {
          "output_type": "execute_result",
          "data": {
            "application/vnd.google.colaboratory.intrinsic+json": {
              "type": "string"
            },
            "text/plain": [
              "'3.14'"
            ]
          },
          "metadata": {
            "tags": []
          },
          "execution_count": 11
        }
      ]
    },
    {
      "cell_type": "code",
      "metadata": {
        "colab": {
          "base_uri": "https://localhost:8080/"
        },
        "id": "KnQXUCku1THw",
        "outputId": "bf395eab-5d3e-404f-baea-9cce068fcb2d"
      },
      "source": [
        "# 문자열 인덱싱..몇번째 글자...\n",
        "\n",
        "# H E L L O\n",
        "# 0 1 2 3 4\n",
        "      -2 -1\n",
        "\n",
        "s= 'hello'\n",
        "print(s)"
      ],
      "execution_count": 12,
      "outputs": [
        {
          "output_type": "stream",
          "text": [
            "hello\n"
          ],
          "name": "stdout"
        }
      ]
    },
    {
      "cell_type": "code",
      "metadata": {
        "colab": {
          "base_uri": "https://localhost:8080/",
          "height": 35
        },
        "id": "Wrntk6hc2mF8",
        "outputId": "0bc8487a-d800-4c14-8259-dfe28d6c400f"
      },
      "source": [
        "s[1]"
      ],
      "execution_count": 13,
      "outputs": [
        {
          "output_type": "execute_result",
          "data": {
            "application/vnd.google.colaboratory.intrinsic+json": {
              "type": "string"
            },
            "text/plain": [
              "'e'"
            ]
          },
          "metadata": {
            "tags": []
          },
          "execution_count": 13
        }
      ]
    },
    {
      "cell_type": "code",
      "metadata": {
        "colab": {
          "base_uri": "https://localhost:8080/",
          "height": 35
        },
        "id": "YIPC5Vi32qTx",
        "outputId": "00f372d6-e134-46ee-ee40-5ed077ef431d"
      },
      "source": [
        "s[-1]"
      ],
      "execution_count": 14,
      "outputs": [
        {
          "output_type": "execute_result",
          "data": {
            "application/vnd.google.colaboratory.intrinsic+json": {
              "type": "string"
            },
            "text/plain": [
              "'o'"
            ]
          },
          "metadata": {
            "tags": []
          },
          "execution_count": 14
        }
      ]
    },
    {
      "cell_type": "code",
      "metadata": {
        "colab": {
          "base_uri": "https://localhost:8080/",
          "height": 35
        },
        "id": "jInwKP0C3KK_",
        "outputId": "f677248e-826c-4981-fac2-a4c4361bc3e4"
      },
      "source": [
        "# 문자열 슬라이싱(몇번째 글자들)\n",
        "\n",
        "s= 'banana'\n",
        "s[0:3]"
      ],
      "execution_count": 18,
      "outputs": [
        {
          "output_type": "execute_result",
          "data": {
            "application/vnd.google.colaboratory.intrinsic+json": {
              "type": "string"
            },
            "text/plain": [
              "'ban'"
            ]
          },
          "metadata": {
            "tags": []
          },
          "execution_count": 18
        }
      ]
    },
    {
      "cell_type": "code",
      "metadata": {
        "colab": {
          "base_uri": "https://localhost:8080/",
          "height": 35
        },
        "id": "iPUxYmMF3p81",
        "outputId": "1ecf97a0-1caf-443f-b856-b41ef2017095"
      },
      "source": [
        "s[2:]"
      ],
      "execution_count": 19,
      "outputs": [
        {
          "output_type": "execute_result",
          "data": {
            "application/vnd.google.colaboratory.intrinsic+json": {
              "type": "string"
            },
            "text/plain": [
              "'nana'"
            ]
          },
          "metadata": {
            "tags": []
          },
          "execution_count": 19
        }
      ]
    },
    {
      "cell_type": "code",
      "metadata": {
        "colab": {
          "base_uri": "https://localhost:8080/",
          "height": 35
        },
        "id": "aEqeslAe4CIX",
        "outputId": "868dabff-5952-49b8-bdee-02180b4732c8"
      },
      "source": [
        "s[:4]"
      ],
      "execution_count": 20,
      "outputs": [
        {
          "output_type": "execute_result",
          "data": {
            "application/vnd.google.colaboratory.intrinsic+json": {
              "type": "string"
            },
            "text/plain": [
              "'bana'"
            ]
          },
          "metadata": {
            "tags": []
          },
          "execution_count": 20
        }
      ]
    },
    {
      "cell_type": "code",
      "metadata": {
        "colab": {
          "base_uri": "https://localhost:8080/",
          "height": 35
        },
        "id": "Ogq_Fhju4L6i",
        "outputId": "4a8716f6-d4ad-4a30-fb9d-2ce74297a665"
      },
      "source": [
        "s[:]"
      ],
      "execution_count": 21,
      "outputs": [
        {
          "output_type": "execute_result",
          "data": {
            "application/vnd.google.colaboratory.intrinsic+json": {
              "type": "string"
            },
            "text/plain": [
              "'banana'"
            ]
          },
          "metadata": {
            "tags": []
          },
          "execution_count": 21
        }
      ]
    },
    {
      "cell_type": "code",
      "metadata": {
        "colab": {
          "base_uri": "https://localhost:8080/"
        },
        "id": "DKsKRyPc4O5o",
        "outputId": "3190962d-5d56-48a5-aa7c-072639c20c7e"
      },
      "source": [
        "# 1교시 제출\n",
        "\n",
        "s='이재용'\n",
        "print(s)"
      ],
      "execution_count": 22,
      "outputs": [
        {
          "output_type": "stream",
          "text": [
            "이재용\n"
          ],
          "name": "stdout"
        }
      ]
    },
    {
      "cell_type": "code",
      "metadata": {
        "colab": {
          "base_uri": "https://localhost:8080/",
          "height": 35
        },
        "id": "Ky-LGvE9_BQ4",
        "outputId": "13ddc9ff-b167-4ba5-a6cf-3b8566fddb9c"
      },
      "source": [
        "s[0]"
      ],
      "execution_count": 31,
      "outputs": [
        {
          "output_type": "execute_result",
          "data": {
            "application/vnd.google.colaboratory.intrinsic+json": {
              "type": "string"
            },
            "text/plain": [
              "'이'"
            ]
          },
          "metadata": {
            "tags": []
          },
          "execution_count": 31
        }
      ]
    },
    {
      "cell_type": "code",
      "metadata": {
        "colab": {
          "base_uri": "https://localhost:8080/",
          "height": 35
        },
        "id": "g5FI70vM_F-S",
        "outputId": "e22dc939-96c5-40d4-d9f3-7cc12048a432"
      },
      "source": [
        "s[1]"
      ],
      "execution_count": 32,
      "outputs": [
        {
          "output_type": "execute_result",
          "data": {
            "application/vnd.google.colaboratory.intrinsic+json": {
              "type": "string"
            },
            "text/plain": [
              "'재'"
            ]
          },
          "metadata": {
            "tags": []
          },
          "execution_count": 32
        }
      ]
    },
    {
      "cell_type": "code",
      "metadata": {
        "colab": {
          "base_uri": "https://localhost:8080/",
          "height": 35
        },
        "id": "ZGQGJ-io_JB4",
        "outputId": "dd78b864-e80d-42c0-c00f-d57c0f66c3ad"
      },
      "source": [
        "s[2]"
      ],
      "execution_count": 35,
      "outputs": [
        {
          "output_type": "execute_result",
          "data": {
            "application/vnd.google.colaboratory.intrinsic+json": {
              "type": "string"
            },
            "text/plain": [
              "'용'"
            ]
          },
          "metadata": {
            "tags": []
          },
          "execution_count": 35
        }
      ]
    },
    {
      "cell_type": "code",
      "metadata": {
        "colab": {
          "base_uri": "https://localhost:8080/",
          "height": 35
        },
        "id": "esNRr85__w2d",
        "outputId": "974e16b1-ac51-4b17-d66f-09d448b0bb56"
      },
      "source": [
        "s[:1]"
      ],
      "execution_count": 36,
      "outputs": [
        {
          "output_type": "execute_result",
          "data": {
            "application/vnd.google.colaboratory.intrinsic+json": {
              "type": "string"
            },
            "text/plain": [
              "'이'"
            ]
          },
          "metadata": {
            "tags": []
          },
          "execution_count": 36
        }
      ]
    },
    {
      "cell_type": "code",
      "metadata": {
        "colab": {
          "base_uri": "https://localhost:8080/"
        },
        "id": "zYAKydzA_9WK",
        "outputId": "7dfbff60-4985-4449-97bd-489867268dd1"
      },
      "source": [
        "# 리스트 자료형    대괄호로 표시, 모든 자료형들을 몽땅 담는다.->여기선 정수 실수 문자\n",
        "\n",
        "li = [100, 3.14, '이재용']\n",
        "\n",
        "print(li)"
      ],
      "execution_count": 37,
      "outputs": [
        {
          "output_type": "stream",
          "text": [
            "[100, 3.14, '이재용']\n"
          ],
          "name": "stdout"
        }
      ]
    },
    {
      "cell_type": "code",
      "metadata": {
        "colab": {
          "base_uri": "https://localhost:8080/"
        },
        "id": "67dUOU7YBSyV",
        "outputId": "8bb50c94-4cf4-4d62-8727-c19a91a1878e"
      },
      "source": [
        "# 리스트에서의 인덱싱과 슬라이싱\n",
        "\n",
        "li[0]"
      ],
      "execution_count": 38,
      "outputs": [
        {
          "output_type": "execute_result",
          "data": {
            "text/plain": [
              "100"
            ]
          },
          "metadata": {
            "tags": []
          },
          "execution_count": 38
        }
      ]
    },
    {
      "cell_type": "code",
      "metadata": {
        "colab": {
          "base_uri": "https://localhost:8080/",
          "height": 35
        },
        "id": "-lpkPmP9B8KX",
        "outputId": "5fe717f2-a281-41e8-f4ce-a793aa9552b8"
      },
      "source": [
        "li[2]"
      ],
      "execution_count": 39,
      "outputs": [
        {
          "output_type": "execute_result",
          "data": {
            "application/vnd.google.colaboratory.intrinsic+json": {
              "type": "string"
            },
            "text/plain": [
              "'이재용'"
            ]
          },
          "metadata": {
            "tags": []
          },
          "execution_count": 39
        }
      ]
    },
    {
      "cell_type": "code",
      "metadata": {
        "colab": {
          "base_uri": "https://localhost:8080/"
        },
        "id": "Z0SKHUvjB-ML",
        "outputId": "87ff0a29-d39f-47c2-bade-7e5e13a6e04d"
      },
      "source": [
        "print(li[:2])"
      ],
      "execution_count": 42,
      "outputs": [
        {
          "output_type": "stream",
          "text": [
            "[100, 3.14]\n"
          ],
          "name": "stdout"
        }
      ]
    },
    {
      "cell_type": "code",
      "metadata": {
        "colab": {
          "base_uri": "https://localhost:8080/"
        },
        "id": "fCpHeKyBCCln",
        "outputId": "b274c8cb-6024-4b53-d594-bcf4adb6b7d3"
      },
      "source": [
        "li"
      ],
      "execution_count": 43,
      "outputs": [
        {
          "output_type": "execute_result",
          "data": {
            "text/plain": [
              "[100, 3.14, '이재용']"
            ]
          },
          "metadata": {
            "tags": []
          },
          "execution_count": 43
        }
      ]
    },
    {
      "cell_type": "code",
      "metadata": {
        "id": "8JZMAEk-CQcT"
      },
      "source": [
        "li.append(202)    # append 메서드(함수)는 끝에 추가"
      ],
      "execution_count": 44,
      "outputs": []
    },
    {
      "cell_type": "code",
      "metadata": {
        "colab": {
          "base_uri": "https://localhost:8080/"
        },
        "id": "p18eon1ICdBj",
        "outputId": "b397afb4-44c4-4273-9f96-f96f4c680f23"
      },
      "source": [
        "li"
      ],
      "execution_count": 45,
      "outputs": [
        {
          "output_type": "execute_result",
          "data": {
            "text/plain": [
              "[100, 3.14, '이재용', 202]"
            ]
          },
          "metadata": {
            "tags": []
          },
          "execution_count": 45
        }
      ]
    },
    {
      "cell_type": "code",
      "metadata": {
        "id": "5ucQWCmmCfJw"
      },
      "source": [
        "li.insert(0,90)    # insert 메서드(함수)는 특정 위치에 삽입"
      ],
      "execution_count": 47,
      "outputs": []
    },
    {
      "cell_type": "code",
      "metadata": {
        "colab": {
          "base_uri": "https://localhost:8080/"
        },
        "id": "EI7uuwGbCxdN",
        "outputId": "80f05f93-c782-4724-c87c-474064282594"
      },
      "source": [
        "li"
      ],
      "execution_count": 48,
      "outputs": [
        {
          "output_type": "execute_result",
          "data": {
            "text/plain": [
              "[90, 100, 3.14, '이재용', 202]"
            ]
          },
          "metadata": {
            "tags": []
          },
          "execution_count": 48
        }
      ]
    },
    {
      "cell_type": "code",
      "metadata": {
        "colab": {
          "base_uri": "https://localhost:8080/"
        },
        "id": "diHtlEerC1mf",
        "outputId": "d3bb1fec-4766-46fb-b47a-b66cf1be9c1e"
      },
      "source": [
        "li.pop()    # prp 메서드는 마지막에서 한 개를 뽑아낸다. 중간에서 뽑을 수도 있음."
      ],
      "execution_count": 49,
      "outputs": [
        {
          "output_type": "execute_result",
          "data": {
            "text/plain": [
              "202"
            ]
          },
          "metadata": {
            "tags": []
          },
          "execution_count": 49
        }
      ]
    },
    {
      "cell_type": "code",
      "metadata": {
        "colab": {
          "base_uri": "https://localhost:8080/"
        },
        "id": "Yru9dVfXDSYS",
        "outputId": "7db23a36-4254-4037-9f8e-945affe6a81c"
      },
      "source": [
        "li"
      ],
      "execution_count": 50,
      "outputs": [
        {
          "output_type": "execute_result",
          "data": {
            "text/plain": [
              "[90, 100, 3.14, '이재용']"
            ]
          },
          "metadata": {
            "tags": []
          },
          "execution_count": 50
        }
      ]
    },
    {
      "cell_type": "code",
      "metadata": {
        "colab": {
          "base_uri": "https://localhost:8080/"
        },
        "id": "btV7NLhbDTS_",
        "outputId": "ae466a57-15c1-4a7b-8d1f-2467304b0a56"
      },
      "source": [
        "li.pop(0)"
      ],
      "execution_count": 51,
      "outputs": [
        {
          "output_type": "execute_result",
          "data": {
            "text/plain": [
              "90"
            ]
          },
          "metadata": {
            "tags": []
          },
          "execution_count": 51
        }
      ]
    },
    {
      "cell_type": "code",
      "metadata": {
        "colab": {
          "base_uri": "https://localhost:8080/"
        },
        "id": "43HONXUhDmzA",
        "outputId": "bfffd45e-f999-46f0-f952-c3295103401c"
      },
      "source": [
        "li"
      ],
      "execution_count": 52,
      "outputs": [
        {
          "output_type": "execute_result",
          "data": {
            "text/plain": [
              "[100, 3.14, '이재용']"
            ]
          },
          "metadata": {
            "tags": []
          },
          "execution_count": 52
        }
      ]
    },
    {
      "cell_type": "code",
      "metadata": {
        "colab": {
          "base_uri": "https://localhost:8080/"
        },
        "id": "66IpsGmuDnXF",
        "outputId": "cf5aeb1f-a97b-4293-8d9c-c265267b02ed"
      },
      "source": [
        "# 튜플 tuple 한 번 생성하면 수정불가하다. 소괄호로 표시, 모든 자료형들을 담는다.\n",
        "\n",
        "li = (1,2,3)\n",
        "print(li)"
      ],
      "execution_count": 54,
      "outputs": [
        {
          "output_type": "stream",
          "text": [
            "(1, 2, 3)\n"
          ],
          "name": "stdout"
        }
      ]
    },
    {
      "cell_type": "code",
      "metadata": {
        "colab": {
          "base_uri": "https://localhost:8080/"
        },
        "id": "ZgyoG6LAG1RZ",
        "outputId": "bebcf9af-2ee1-4fde-b612-54a4addeaa99"
      },
      "source": [
        "# 튜플은 원소 하나만 넣을라면 괜히 쉼표까지 넣어줘야 한다. \n",
        "\n",
        "t = (1,)\n",
        "\n",
        "name = (\"이재용\",)\n",
        "type(name)"
      ],
      "execution_count": 58,
      "outputs": [
        {
          "output_type": "execute_result",
          "data": {
            "text/plain": [
              "tuple"
            ]
          },
          "metadata": {
            "tags": []
          },
          "execution_count": 58
        }
      ]
    },
    {
      "cell_type": "code",
      "metadata": {
        "colab": {
          "base_uri": "https://localhost:8080/"
        },
        "id": "huNbDobyG3WH",
        "outputId": "b05cf567-a6bb-432c-c5f0-bbdb38067356"
      },
      "source": [
        "print(t)"
      ],
      "execution_count": 57,
      "outputs": [
        {
          "output_type": "stream",
          "text": [
            "(1,)\n"
          ],
          "name": "stdout"
        }
      ]
    },
    {
      "cell_type": "code",
      "metadata": {
        "id": "sZyrtr7RHx5F"
      },
      "source": [
        "# 셋 (set, 집합) {},중복을 허용하지 않는다. 추가/삭제 가능\n",
        "# 순서가 없기 때문에 인덱싱과 슬라이싱 불가능.\n",
        "\n",
        "sl = {10,10,20,30}"
      ],
      "execution_count": 59,
      "outputs": []
    },
    {
      "cell_type": "code",
      "metadata": {
        "colab": {
          "base_uri": "https://localhost:8080/"
        },
        "id": "NYLGzjuLMv_W",
        "outputId": "04798d6b-39aa-4bca-e7fa-96361391445f"
      },
      "source": [
        "print(sl)"
      ],
      "execution_count": 60,
      "outputs": [
        {
          "output_type": "stream",
          "text": [
            "{10, 20, 30}\n"
          ],
          "name": "stdout"
        }
      ]
    },
    {
      "cell_type": "code",
      "metadata": {
        "colab": {
          "base_uri": "https://localhost:8080/"
        },
        "id": "iI2f9D3NNAKB",
        "outputId": "7b6dab07-b496-4eb7-b77f-2e015b8ec37b"
      },
      "source": [
        "sl.add(40)\n",
        "sl"
      ],
      "execution_count": 61,
      "outputs": [
        {
          "output_type": "execute_result",
          "data": {
            "text/plain": [
              "{10, 20, 30, 40}"
            ]
          },
          "metadata": {
            "tags": []
          },
          "execution_count": 61
        }
      ]
    },
    {
      "cell_type": "code",
      "metadata": {
        "colab": {
          "base_uri": "https://localhost:8080/"
        },
        "id": "2kZPMLoLMxJC",
        "outputId": "8cf04cfb-0c0b-496a-f5d0-84dabc7c9f92"
      },
      "source": [
        "sl.remove(20)\n",
        "sl"
      ],
      "execution_count": 62,
      "outputs": [
        {
          "output_type": "execute_result",
          "data": {
            "text/plain": [
              "{10, 30, 40}"
            ]
          },
          "metadata": {
            "tags": []
          },
          "execution_count": 62
        }
      ]
    },
    {
      "cell_type": "code",
      "metadata": {
        "colab": {
          "base_uri": "https://localhost:8080/"
        },
        "id": "T-OiLFmqNWiN",
        "outputId": "c1f42148-74b5-4e9b-d600-19db3eebcc6e"
      },
      "source": [
        "# 딕셔너리    키값과 밸류값으로 구성된다.\n",
        "#             추가/삭제도 가능\n",
        "\n",
        "dic = {'a':'apple', 'b':'banana'}\n",
        "dic"
      ],
      "execution_count": 64,
      "outputs": [
        {
          "output_type": "execute_result",
          "data": {
            "text/plain": [
              "{'a': 'apple', 'b': 'banana'}"
            ]
          },
          "metadata": {
            "tags": []
          },
          "execution_count": 64
        }
      ]
    },
    {
      "cell_type": "code",
      "metadata": {
        "colab": {
          "base_uri": "https://localhost:8080/"
        },
        "id": "yKPzEzQJOS0-",
        "outputId": "37ab179b-7286-43a9-be71-c2d76d520d5c"
      },
      "source": [
        "type(dic)"
      ],
      "execution_count": 65,
      "outputs": [
        {
          "output_type": "execute_result",
          "data": {
            "text/plain": [
              "dict"
            ]
          },
          "metadata": {
            "tags": []
          },
          "execution_count": 65
        }
      ]
    },
    {
      "cell_type": "code",
      "metadata": {
        "colab": {
          "base_uri": "https://localhost:8080/",
          "height": 35
        },
        "id": "2_h0KAlsOg9p",
        "outputId": "d89f4c1a-6880-4bc9-e0a3-a4bc34cd1075"
      },
      "source": [
        "dic['a']"
      ],
      "execution_count": 68,
      "outputs": [
        {
          "output_type": "execute_result",
          "data": {
            "application/vnd.google.colaboratory.intrinsic+json": {
              "type": "string"
            },
            "text/plain": [
              "'apple'"
            ]
          },
          "metadata": {
            "tags": []
          },
          "execution_count": 68
        }
      ]
    },
    {
      "cell_type": "code",
      "metadata": {
        "id": "bz2ahJfGOjml"
      },
      "source": [
        "dic['c'] = 'cherry'"
      ],
      "execution_count": 69,
      "outputs": []
    },
    {
      "cell_type": "code",
      "metadata": {
        "colab": {
          "base_uri": "https://localhost:8080/"
        },
        "id": "698KUhyOPcI6",
        "outputId": "72f4fbc0-d7bd-427b-bee2-b2fbcb040247"
      },
      "source": [
        "dic"
      ],
      "execution_count": 70,
      "outputs": [
        {
          "output_type": "execute_result",
          "data": {
            "text/plain": [
              "{'a': 'apple', 'b': 'banana', 'c': 'cherry'}"
            ]
          },
          "metadata": {
            "tags": []
          },
          "execution_count": 70
        }
      ]
    },
    {
      "cell_type": "code",
      "metadata": {
        "id": "ndlV_YIJPdNA"
      },
      "source": [
        "# mutable : list, set, dic\n",
        "# immutable: tuple, 엄밀히 말하면 str, float, int"
      ],
      "execution_count": 71,
      "outputs": []
    },
    {
      "cell_type": "code",
      "metadata": {
        "colab": {
          "base_uri": "https://localhost:8080/"
        },
        "id": "WVwrGuXDSOXq",
        "outputId": "b1931be1-9a1c-4314-e28c-1d6958474569"
      },
      "source": [
        "# 이스케이프 문자\n",
        "\n",
        "print('Hello World')\n",
        "print('Hello /nWorld')    # 원기호n 줄바꿈\n",
        "print('Hello /tWorld')    # 원기호t 탭"
      ],
      "execution_count": 73,
      "outputs": [
        {
          "output_type": "stream",
          "text": [
            "Hello World\n",
            "Hello /nWorld\n",
            "Hello /tWorld\n"
          ],
          "name": "stdout"
        }
      ]
    },
    {
      "cell_type": "code",
      "metadata": {
        "colab": {
          "base_uri": "https://localhost:8080/"
        },
        "id": "vSVjAGRNSgoR",
        "outputId": "c34eca47-d447-4588-d498-811927f98686"
      },
      "source": [
        "# print() 함수\n",
        "\n",
        "print('python', 'java', 'c')"
      ],
      "execution_count": 74,
      "outputs": [
        {
          "output_type": "stream",
          "text": [
            "python java c\n"
          ],
          "name": "stdout"
        }
      ]
    },
    {
      "cell_type": "code",
      "metadata": {
        "colab": {
          "base_uri": "https://localhost:8080/"
        },
        "id": "5ATjgqWsTDtc",
        "outputId": "82e79262-4ef6-418b-edfa-5aea6b86f18f"
      },
      "source": [
        "print('python', 'java', 'c', sep=',')"
      ],
      "execution_count": 75,
      "outputs": [
        {
          "output_type": "stream",
          "text": [
            "python,java,c\n"
          ],
          "name": "stdout"
        }
      ]
    },
    {
      "cell_type": "code",
      "metadata": {
        "colab": {
          "base_uri": "https://localhost:8080/"
        },
        "id": "d4plyf5STM7j",
        "outputId": "fd7e7076-3ff7-46bb-c963-eaa063448624"
      },
      "source": [
        "print('python', end='')\n",
        "print('java', end='')\n",
        "print('c')"
      ],
      "execution_count": 77,
      "outputs": [
        {
          "output_type": "stream",
          "text": [
            "pythonjavac\n"
          ],
          "name": "stdout"
        }
      ]
    },
    {
      "cell_type": "code",
      "metadata": {
        "colab": {
          "base_uri": "https://localhost:8080/"
        },
        "id": "zB0DsqSvT2WX",
        "outputId": "6fb951b5-f06a-46e2-bbf9-5fc9c378fffe"
      },
      "source": [
        "# 형식을 갖춘 문자열... 인쇄 형태 설정    %연산자    format()함수\n",
        "\n",
        "print('%d' % 10)            # %d 정수 10진수\n",
        "print('%f' % 3.14)          # %f float 실수\n",
        "print('%s' % '이재용')      # %s string 문자열"
      ],
      "execution_count": 79,
      "outputs": [
        {
          "output_type": "stream",
          "text": [
            "10\n",
            "3.140000\n",
            "이재용\n"
          ],
          "name": "stdout"
        }
      ]
    },
    {
      "cell_type": "code",
      "metadata": {
        "colab": {
          "base_uri": "https://localhost:8080/",
          "height": 35
        },
        "id": "x2TkPuwRVEDx",
        "outputId": "6202b31a-191f-4495-f00b-01359782d479"
      },
      "source": [
        "'나의 이름은 {}입니다.' .format('이재용')"
      ],
      "execution_count": 81,
      "outputs": [
        {
          "output_type": "execute_result",
          "data": {
            "application/vnd.google.colaboratory.intrinsic+json": {
              "type": "string"
            },
            "text/plain": [
              "'나의 이름은 이재용입니다.'"
            ]
          },
          "metadata": {
            "tags": []
          },
          "execution_count": 81
        }
      ]
    },
    {
      "cell_type": "code",
      "metadata": {
        "colab": {
          "base_uri": "https://localhost:8080/",
          "height": 35
        },
        "id": "Bd_XBX0DWgWb",
        "outputId": "67b4893a-2ea6-44f8-dcbb-98047b4fb245"
      },
      "source": [
        "'나의 {0}은 {1}입니다' .format('직업', '프로그래머')"
      ],
      "execution_count": 82,
      "outputs": [
        {
          "output_type": "execute_result",
          "data": {
            "application/vnd.google.colaboratory.intrinsic+json": {
              "type": "string"
            },
            "text/plain": [
              "'나의 직업은 프로그래머입니다'"
            ]
          },
          "metadata": {
            "tags": []
          },
          "execution_count": 82
        }
      ]
    },
    {
      "cell_type": "code",
      "metadata": {
        "colab": {
          "base_uri": "https://localhost:8080/",
          "height": 35
        },
        "id": "3ZjWSjDBW0DG",
        "outputId": "9f711f57-c1e8-4f31-bc9f-c7ab4ed97021"
      },
      "source": [
        "'나의 {1}은 {0}입니다' .format('직업', '프로그래머')"
      ],
      "execution_count": 83,
      "outputs": [
        {
          "output_type": "execute_result",
          "data": {
            "application/vnd.google.colaboratory.intrinsic+json": {
              "type": "string"
            },
            "text/plain": [
              "'나의 프로그래머은 직업입니다'"
            ]
          },
          "metadata": {
            "tags": []
          },
          "execution_count": 83
        }
      ]
    },
    {
      "cell_type": "code",
      "metadata": {
        "id": "622ndMW3W8Ox"
      },
      "source": [
        ""
      ],
      "execution_count": null,
      "outputs": []
    }
  ]
}